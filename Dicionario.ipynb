{
  "nbformat": 4,
  "nbformat_minor": 0,
  "metadata": {
    "colab": {
      "provenance": [],
      "authorship_tag": "ABX9TyPIpYdgBZN4FDHefGawbN01",
      "include_colab_link": true
    },
    "kernelspec": {
      "name": "python3",
      "display_name": "Python 3"
    },
    "language_info": {
      "name": "python"
    }
  },
  "cells": [
    {
      "cell_type": "markdown",
      "metadata": {
        "id": "view-in-github",
        "colab_type": "text"
      },
      "source": [
        "<a href=\"https://colab.research.google.com/github/KevinJP18/Aulas-de-progroma-o/blob/main/Dicionario.ipynb\" target=\"_parent\"><img src=\"https://colab.research.google.com/assets/colab-badge.svg\" alt=\"Open In Colab\"/></a>"
      ]
    },
    {
      "cell_type": "code",
      "execution_count": 33,
      "metadata": {
        "colab": {
          "base_uri": "https://localhost:8080/"
        },
        "id": "AjzztpVLat1f",
        "outputId": "0fff754e-5a67-4e91-f9fa-9499a69202e1"
      },
      "outputs": [
        {
          "output_type": "execute_result",
          "data": {
            "text/plain": [
              "{'nome': 'Juca',\n",
              " 'RA': '123654789',\n",
              " 'Data_Nascim': '10/10/1999',\n",
              " 'telefones': [83145425454, 9955855884]}"
            ]
          },
          "metadata": {},
          "execution_count": 33
        }
      ],
      "source": [
        "aluno = {\n",
        "    \"nome\": \"Juca\",\n",
        "    \"RA\" : \"123654789\",\n",
        "    \"Data_Nascim\" : \"10/10/1999\",\n",
        "    \"telefones\" : [83145425454, 9955855884]\n",
        "}\n",
        "aluno"
      ]
    },
    {
      "cell_type": "code",
      "source": [
        "dicionario_vazio = {}\n",
        "dicionario = {\n",
        "    \"nome\" : \"João\",\n",
        "    \"idade\" : 25\n",
        "}\n",
        "dicionario_misto = {1: \"a\", True: \"b\"} # chaves podem ser números/booleanos\n"
      ],
      "metadata": {
        "id": "bnwTrpHieIac"
      },
      "execution_count": 3,
      "outputs": []
    },
    {
      "cell_type": "markdown",
      "source": [
        "Acessar valores"
      ],
      "metadata": {
        "id": "cDClM_-pf-oT"
      }
    },
    {
      "cell_type": "code",
      "source": [
        "print(aluno[\"nome\"])\n",
        "print(aluno[\"telefones\"])\n",
        "print(aluno[\"telefones\"][0])"
      ],
      "metadata": {
        "colab": {
          "base_uri": "https://localhost:8080/"
        },
        "id": "U6PFt_ZPgBV6",
        "outputId": "401156e1-20ca-4c2b-de88-038bfaad0a11"
      },
      "execution_count": 34,
      "outputs": [
        {
          "output_type": "stream",
          "name": "stdout",
          "text": [
            "Juca\n",
            "[83145425454, 9955855884]\n",
            "83145425454\n"
          ]
        }
      ]
    },
    {
      "cell_type": "code",
      "source": [
        "livro = {\n",
        "    \"título\": \"The classroom of the Elite, V12\",\n",
        "    \"autor\" : \"Syougo Kinugasa\",\n",
        "    \"Ano de publicação\" : \"25/07/2024\"\n",
        "}\n",
        "livro"
      ],
      "metadata": {
        "colab": {
          "base_uri": "https://localhost:8080/"
        },
        "id": "dFbw7bqnhGg6",
        "outputId": "e5f80cf0-9e47-4177-f493-029a86a60f5e"
      },
      "execution_count": 11,
      "outputs": [
        {
          "output_type": "execute_result",
          "data": {
            "text/plain": [
              "{'título': 'The classroom of the Elite, V12',\n",
              " 'autor': 'Syougo Kinugasa',\n",
              " 'Ano de publicação': '25/07/2024'}"
            ]
          },
          "metadata": {},
          "execution_count": 11
        }
      ]
    },
    {
      "cell_type": "code",
      "source": [
        "print(aluno[\"nome\"]) # João\n",
        "print(aluno.get(\"endereco\"))\n",
        "print(aluno.get(\"endereco\", \"Nao tem indereco otario\"))"
      ],
      "metadata": {
        "colab": {
          "base_uri": "https://localhost:8080/"
        },
        "id": "BGxlCzU4i6ME",
        "outputId": "a95c8423-0511-4900-c080-2e0495b1291e"
      },
      "execution_count": 35,
      "outputs": [
        {
          "output_type": "stream",
          "name": "stdout",
          "text": [
            "Juca\n",
            "None\n",
            "Nao tem indereco otario\n"
          ]
        }
      ]
    },
    {
      "cell_type": "code",
      "source": [
        "#metodos get() (retorna none ou valor padrão se não existir evitando erros )\n",
        "dados = {\"nome\": \"Maria\", \"telefone\": 2225588}\n",
        "print(dados.get(\"nome\"))\n",
        "print(dados.get(\"telefone\"))\n",
        "print(dados.get(\"telefone\", \"não informado\"))"
      ],
      "metadata": {
        "colab": {
          "base_uri": "https://localhost:8080/"
        },
        "id": "Ybk0crvajDND",
        "outputId": "d4f8887f-d5de-4299-c690-b895e4854cb4"
      },
      "execution_count": 36,
      "outputs": [
        {
          "output_type": "stream",
          "name": "stdout",
          "text": [
            "Maria\n",
            "2225588\n",
            "2225588\n"
          ]
        }
      ]
    },
    {
      "cell_type": "code",
      "source": [
        "livro = {\n",
        "    \"título\": \"The classroom of the Elite, V12\",\n",
        "    \"autor\" : \"Syougo Kinugasa\",\n",
        "    \"Ano de publicação\" : \"25/07/2024\"\n",
        "}\n",
        "livro\n",
        "\n",
        "print(livro.get(\"volume 01\", \"desconhecido\"))"
      ],
      "metadata": {
        "colab": {
          "base_uri": "https://localhost:8080/"
        },
        "id": "bLbxEYa1kn7m",
        "outputId": "f0519723-f6e1-4de8-ba73-91c82e80a895"
      },
      "execution_count": 16,
      "outputs": [
        {
          "output_type": "stream",
          "name": "stdout",
          "text": [
            "desconhecido\n"
          ]
        }
      ]
    },
    {
      "cell_type": "markdown",
      "source": [
        "adicionar ou modificar"
      ],
      "metadata": {
        "id": "JrM6b-9zlpbY"
      }
    },
    {
      "cell_type": "code",
      "source": [
        "aluno[\"RA\"] = \"12345\"\n",
        "aluno[\"curso\"] = \"ADS\"\n",
        "print(aluno)\n",
        "aluno.get(\"curso\")"
      ],
      "metadata": {
        "colab": {
          "base_uri": "https://localhost:8080/",
          "height": 54
        },
        "id": "KTm4opdxlmaZ",
        "outputId": "0abe7df3-6edc-4859-f7cd-600e99a2120d"
      },
      "execution_count": 39,
      "outputs": [
        {
          "output_type": "stream",
          "name": "stdout",
          "text": [
            "{'nome': 'Juca', 'RA': '12345', 'Data_Nascim': '10/10/1999', 'telefones': [83145425454, 9955855884], 'curso': 'ADS'}\n"
          ]
        },
        {
          "output_type": "execute_result",
          "data": {
            "text/plain": [
              "'ADS'"
            ],
            "application/vnd.google.colaboratory.intrinsic+json": {
              "type": "string"
            }
          },
          "metadata": {},
          "execution_count": 39
        }
      ]
    },
    {
      "cell_type": "code",
      "source": [
        "livro[\"chave editora\"] = \"Seven Seas Entertainment\"\n",
        "livro[\"Ano de publicação\"] = \"25/07/2023\"\n",
        "print(livro)"
      ],
      "metadata": {
        "colab": {
          "base_uri": "https://localhost:8080/"
        },
        "id": "Xv6ry-zhmL0q",
        "outputId": "db3637b9-a7ba-44ee-f0bc-db830cece76f"
      },
      "execution_count": 21,
      "outputs": [
        {
          "output_type": "stream",
          "name": "stdout",
          "text": [
            "{'título': 'The classroom of the Elite, V12', 'autor': 'Syougo Kinugasa', 'Ano de publicação': '25/07/2023', 'chave editora': 'Seven Seas Entertainment'}\n"
          ]
        }
      ]
    },
    {
      "cell_type": "markdown",
      "source": [
        "remover itens"
      ],
      "metadata": {
        "id": "YQvCVneTm4Sy"
      }
    },
    {
      "cell_type": "code",
      "source": [
        "#del (remove pela chave, com erro se nao existir)\n",
        "\n",
        "del aluno[\"curso\"]\n",
        "print(aluno)"
      ],
      "metadata": {
        "colab": {
          "base_uri": "https://localhost:8080/"
        },
        "id": "fTClp5BTm66C",
        "outputId": "fcdbc487-5329-4712-abbe-2e488f726633"
      },
      "execution_count": 40,
      "outputs": [
        {
          "output_type": "stream",
          "name": "stdout",
          "text": [
            "{'nome': 'Juca', 'RA': '12345', 'Data_Nascim': '10/10/1999', 'telefones': [83145425454, 9955855884]}\n"
          ]
        }
      ]
    },
    {
      "cell_type": "code",
      "source": [
        "#pop() remove e retorna o valor, pode definir padrao\n",
        "aluno.pop(\"curso\",0)\n",
        "print(aluno)"
      ],
      "metadata": {
        "colab": {
          "base_uri": "https://localhost:8080/"
        },
        "id": "TPjU2l1Gnki8",
        "outputId": "23acb177-e67b-4df9-a99e-8319a1bcfb1b"
      },
      "execution_count": 38,
      "outputs": [
        {
          "output_type": "stream",
          "name": "stdout",
          "text": [
            "{'nome': 'Juca', 'RA': '123654789', 'Data_Nascim': '10/10/1999', 'telefones': [83145425454, 9955855884]}\n"
          ]
        }
      ]
    },
    {
      "cell_type": "code",
      "source": [
        "#popitem() remove e retorna o ultimo item adicionado\n",
        "item = aluno.popitem()\n",
        "print(item)"
      ],
      "metadata": {
        "colab": {
          "base_uri": "https://localhost:8080/"
        },
        "id": "QRbvp0bEn1aD",
        "outputId": "65b028e5-2bf5-494c-f4e4-d1fa43be934d"
      },
      "execution_count": 26,
      "outputs": [
        {
          "output_type": "stream",
          "name": "stdout",
          "text": [
            "('telefones', [83145425454, 9955855884])\n"
          ]
        }
      ]
    },
    {
      "cell_type": "code",
      "source": [
        "#clear() limpa todo o dicionario\n",
        "aluno.clear()\n",
        "print(aluno)"
      ],
      "metadata": {
        "colab": {
          "base_uri": "https://localhost:8080/"
        },
        "id": "JQS3K1enoJwE",
        "outputId": "f9f93fd6-5ea3-4263-c813-688fae25f4a3"
      },
      "execution_count": 27,
      "outputs": [
        {
          "output_type": "stream",
          "name": "stdout",
          "text": [
            "{}\n"
          ]
        }
      ]
    },
    {
      "cell_type": "code",
      "source": [
        "livro.pop(\"autor\",0)\n",
        "print(livro)"
      ],
      "metadata": {
        "colab": {
          "base_uri": "https://localhost:8080/"
        },
        "id": "zXRjbHMPo9jH",
        "outputId": "510c0af6-883e-4f00-d1a9-5c55adad897c"
      },
      "execution_count": 44,
      "outputs": [
        {
          "output_type": "stream",
          "name": "stdout",
          "text": [
            "{'título': 'The classroom of the Elite, V12', 'Ano de publicação': '25/07/2023', 'chave editora': 'Seven Seas Entertainment'}\n"
          ]
        }
      ]
    },
    {
      "cell_type": "markdown",
      "source": [
        "verificar chaves e valores"
      ],
      "metadata": {
        "id": "JQRhhyQQpfqA"
      }
    },
    {
      "cell_type": "code",
      "source": [
        "dados = {\n",
        "    \"nome\": \"Pedro\",\n",
        "    \"idade\": 35\n",
        "}\n",
        "#verifica se a chave existe\n",
        "print(\"nome\" in dados)\n",
        "print(\"telefone\" in dados)\n",
        "\n",
        "#verifica se o valor existe\n",
        "print(\"Pedro\" in dados.values())"
      ],
      "metadata": {
        "id": "VzDHcw3MpiSI"
      },
      "execution_count": null,
      "outputs": []
    },
    {
      "cell_type": "markdown",
      "source": [
        "itera dic."
      ],
      "metadata": {
        "id": "HxYyZrPRqe3Z"
      }
    },
    {
      "cell_type": "code",
      "source": [
        "for chave in dados.values():\n",
        "                  #keys()\n",
        "  print(chave)"
      ],
      "metadata": {
        "id": "dC3kG5iHqL9Z"
      },
      "execution_count": null,
      "outputs": []
    },
    {
      "cell_type": "code",
      "source": [
        "for chave, valor in dados.items():\n",
        "  print(f\"{chave}: {valor}\")"
      ],
      "metadata": {
        "colab": {
          "base_uri": "https://localhost:8080/"
        },
        "id": "nXw8_Y8Vqheh",
        "outputId": "54b3473c-3ee2-493d-b990-e8c50c914dbf"
      },
      "execution_count": 52,
      "outputs": [
        {
          "output_type": "stream",
          "name": "stdout",
          "text": [
            "nome: Pedro\n",
            "idade: 35\n"
          ]
        }
      ]
    },
    {
      "cell_type": "code",
      "source": [
        "linguagens= [\n",
        "    {\"nome\": \"java\", \"Ano\": \"1995\"},\n",
        "    {\"nome\": \"c++\", \"Ano\": \"1983\"},\n",
        "    {\"nome\": \"Javascript\", \"Ano\": \"1995\"}\n",
        "]\n",
        "linguagens\n"
      ],
      "metadata": {
        "colab": {
          "base_uri": "https://localhost:8080/"
        },
        "id": "FCsEAqCfrH6j",
        "outputId": "85d8ed7c-947e-4395-92a3-9dd82c764fcf"
      },
      "execution_count": 53,
      "outputs": [
        {
          "output_type": "execute_result",
          "data": {
            "text/plain": [
              "[{'nome': 'java', 'Ano': '1995'},\n",
              " {'nome': 'c++', 'Ano': '1983'},\n",
              " {'nome': 'Javascript', 'Ano': '1995'}]"
            ]
          },
          "metadata": {},
          "execution_count": 53
        }
      ]
    },
    {
      "cell_type": "code",
      "source": [
        "linguagens.append({\"nome\": \"Python\", \"Ano\": \"1991\"})\n",
        "print(linguagens)"
      ],
      "metadata": {
        "colab": {
          "base_uri": "https://localhost:8080/"
        },
        "id": "7BbtuUuGsvwJ",
        "outputId": "43f41107-00a9-4d6b-b9f1-b70215e96f05"
      },
      "execution_count": 54,
      "outputs": [
        {
          "output_type": "stream",
          "name": "stdout",
          "text": [
            "[{'nome': 'java', 'Ano': '1995'}, {'nome': 'c++', 'Ano': '1983'}, {'nome': 'Javascript', 'Ano': '1995'}, {'nome': 'Python', 'Ano': '1991'}]\n"
          ]
        }
      ]
    },
    {
      "cell_type": "code",
      "source": [
        "#acessar dados\n",
        "print(\"nome da primeira linguagem:\", linguagens[0][\"nome\"])\n",
        "print(\"o ano do seu lançamento foi:\",linguagens[0][\"Ano\"])"
      ],
      "metadata": {
        "colab": {
          "base_uri": "https://localhost:8080/"
        },
        "id": "HdTQn2wNs_ip",
        "outputId": "db313c7d-b41c-4208-ed4c-57c672ff38d2"
      },
      "execution_count": 56,
      "outputs": [
        {
          "output_type": "stream",
          "name": "stdout",
          "text": [
            "nome da primeira linguagem: java\n",
            "o ano do seu lançamento foi: 1995\n"
          ]
        }
      ]
    }
  ]
}