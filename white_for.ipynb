{
  "nbformat": 4,
  "nbformat_minor": 0,
  "metadata": {
    "colab": {
      "provenance": [],
      "authorship_tag": "ABX9TyP+K9CBwq1um2xydPZyN+0F",
      "include_colab_link": true
    },
    "kernelspec": {
      "name": "python3",
      "display_name": "Python 3"
    },
    "language_info": {
      "name": "python"
    }
  },
  "cells": [
    {
      "cell_type": "markdown",
      "metadata": {
        "id": "view-in-github",
        "colab_type": "text"
      },
      "source": [
        "<a href=\"https://colab.research.google.com/github/KevinJP18/Aulas-de-progroma-o/blob/main/white_for.ipynb\" target=\"_parent\"><img src=\"https://colab.research.google.com/assets/colab-badge.svg\" alt=\"Open In Colab\"/></a>"
      ]
    },
    {
      "cell_type": "markdown",
      "source": [
        "1 - pede para o usuario digitir um numero inteiro e informa se é par ou impar\n"
      ],
      "metadata": {
        "id": "1tvDic_nLvbR"
      }
    },
    {
      "cell_type": "code",
      "execution_count": 3,
      "metadata": {
        "colab": {
          "base_uri": "https://localhost:8080/"
        },
        "id": "88coGfYwK2kF",
        "outputId": "11686285-77e5-43db-86df-5f5a2244c6cf"
      },
      "outputs": [
        {
          "output_type": "stream",
          "name": "stdout",
          "text": [
            "informe um valor inteiro 8\n",
            "o numero é par\n"
          ]
        }
      ],
      "source": [
        "v1 = input(\"informe um valor inteiro\")\n",
        "\n",
        "if int (v1)%2==0:\n",
        "  print(\"o numero é par\")\n",
        "else:\n",
        "  print(\"o numero é impar\")"
      ]
    },
    {
      "cell_type": "markdown",
      "source": [
        "2 - solicita dois numeros e informa qual é o maior"
      ],
      "metadata": {
        "id": "We5uZaRpM12X"
      }
    },
    {
      "cell_type": "code",
      "source": [
        "v2 = int(input(\"informe o primeiro valor \"))\n",
        "v3 = int(input(\"informe o segundo valor \"))\n",
        "\n",
        "if v2 > v3:\n",
        "  print('o primeiro valor é maior')\n",
        "elif v2 < v3:\n",
        "  print('o segundo valor é maior')\n",
        "else:\n",
        "  print('os valores sao iguais')"
      ],
      "metadata": {
        "colab": {
          "base_uri": "https://localhost:8080/"
        },
        "id": "pn-k9npdM1CQ",
        "outputId": "17c2db83-a8d0-4a26-8b6f-8ccb047c7383"
      },
      "execution_count": 11,
      "outputs": [
        {
          "output_type": "stream",
          "name": "stdout",
          "text": [
            "informe o primeiro valor 7\n",
            "informe o segundo valor 7\n",
            "os valores sao iguais\n"
          ]
        }
      ]
    },
    {
      "cell_type": "markdown",
      "source": [
        "3 - solicita as 3 notas de um individuo,calcula média e:"
      ],
      "metadata": {
        "id": "YyadwC3wN6-c"
      }
    },
    {
      "cell_type": "code",
      "source": [
        "nota1 = float(input(\"informe a primeira nota \"))\n",
        "nota2 = float(input(\"informe a segunda nota \"))\n",
        "nota3 = float(input(\"informe a terceira nota \"))\n",
        "\n",
        "media = (nota1 + nota2 + nota3)/3\n",
        "\n",
        "if media >= 7:\n",
        "  print(\"aprovado\")\n",
        "elif media < 7 and media >= 4:\n",
        "  print(\"recuperação\")\n",
        "else:\n",
        "  print(\"reprovado\")\n"
      ],
      "metadata": {
        "colab": {
          "base_uri": "https://localhost:8080/"
        },
        "id": "tf-a0s5ZOChF",
        "outputId": "84209a22-e8b6-40c5-d5f0-2a2225f9f68b"
      },
      "execution_count": 8,
      "outputs": [
        {
          "output_type": "stream",
          "name": "stdout",
          "text": [
            "informe a primeira nota 7.8\n",
            "informe a segunda nota 5.6\n",
            "informe a terceira nota 2.5\n",
            "recuperação\n"
          ]
        }
      ]
    },
    {
      "cell_type": "markdown",
      "source": [
        "While e sua função\n"
      ],
      "metadata": {
        "id": "i7xcTEjlUnw9"
      }
    },
    {
      "cell_type": "code",
      "source": [
        "#Contador simples\n",
        "\n",
        "contador = 0\n",
        "while contador < 10:\n",
        "  contador = contador + 1\n",
        "  print(contador)\n",
        ""
      ],
      "metadata": {
        "colab": {
          "base_uri": "https://localhost:8080/"
        },
        "id": "nLPNbWGKTn0c",
        "outputId": "f63979bc-a184-4d5c-8f81-ec5f0b457272"
      },
      "execution_count": 13,
      "outputs": [
        {
          "output_type": "stream",
          "name": "stdout",
          "text": [
            "1\n",
            "2\n",
            "3\n",
            "4\n",
            "5\n",
            "6\n",
            "7\n",
            "8\n",
            "9\n",
            "10\n"
          ]
        }
      ]
    },
    {
      "cell_type": "markdown",
      "source": [
        "modifique o codigo para contar de 1 a 20\n"
      ],
      "metadata": {
        "id": "mdvQORsnVe61"
      }
    },
    {
      "cell_type": "code",
      "source": [
        "contador = 0\n",
        "while contador < 20:\n",
        "  print(contador)\n",
        "  contador = contador + 1"
      ],
      "metadata": {
        "colab": {
          "base_uri": "https://localhost:8080/"
        },
        "id": "i6uvRoOIVX7N",
        "outputId": "c1c652b8-c38f-49a1-f50a-fb7cd5964898"
      },
      "execution_count": 14,
      "outputs": [
        {
          "output_type": "stream",
          "name": "stdout",
          "text": [
            "0\n",
            "1\n",
            "2\n",
            "3\n",
            "4\n",
            "5\n",
            "6\n",
            "7\n",
            "8\n",
            "9\n",
            "10\n",
            "11\n",
            "12\n",
            "13\n",
            "14\n",
            "15\n",
            "16\n",
            "17\n",
            "18\n",
            "19\n"
          ]
        }
      ]
    },
    {
      "cell_type": "markdown",
      "source": [
        "faça o codigo contar de 10 a 1"
      ],
      "metadata": {
        "id": "udjwzkj4V6Am"
      }
    },
    {
      "cell_type": "code",
      "source": [
        "contador = 10\n",
        "while contador > 0:\n",
        "  print(contador)\n",
        "  contador -= 1"
      ],
      "metadata": {
        "id": "zm4DU1jSV-g1"
      },
      "execution_count": null,
      "outputs": []
    },
    {
      "cell_type": "markdown",
      "source": [
        "escreve um programa que imprime apenas os numeros pares de 1 a 10 usando while"
      ],
      "metadata": {
        "id": "51eIr8gmXvLf"
      }
    },
    {
      "cell_type": "code",
      "source": [
        "cont = 0\n",
        "while cont < 10:\n",
        "  if cont % 2 == 0:\n",
        "    print(cont)\n",
        "  cont += 1"
      ],
      "metadata": {
        "colab": {
          "base_uri": "https://localhost:8080/"
        },
        "id": "RWHFbmh1X424",
        "outputId": "f58ff0ae-28cd-4a27-803d-07f9d5663017"
      },
      "execution_count": 23,
      "outputs": [
        {
          "output_type": "stream",
          "name": "stdout",
          "text": [
            "0\n",
            "2\n",
            "4\n",
            "6\n",
            "8\n"
          ]
        }
      ]
    },
    {
      "cell_type": "code",
      "source": [
        "#pedir um numero, retorno o seu quadrado\n",
        "#O programa encerra quando digitir 0\n",
        "#use o While\n",
        "\n",
        "num1 = int(input('informe um numero '))\n",
        "while num1 != 0:\n",
        "  print(num1**2)\n",
        "  num1 = int(input('informe um numero '))"
      ],
      "metadata": {
        "colab": {
          "base_uri": "https://localhost:8080/"
        },
        "id": "BSNxk1xqY6ZA",
        "outputId": "6e9f32a6-7cbd-4b10-b6c1-0b8adee5a26d"
      },
      "execution_count": 25,
      "outputs": [
        {
          "name": "stdout",
          "output_type": "stream",
          "text": [
            "informe um numero 5\n",
            "25\n",
            "informe um numero 6\n",
            "36\n",
            "informe um numero 2\n",
            "4\n",
            "informe um numero 1\n",
            "1\n",
            "informe um numero 0\n"
          ]
        }
      ]
    },
    {
      "cell_type": "code",
      "source": [
        "while True:\n",
        "  num1 = int(input('informe um numero'))\n",
        "  if num1 == 0: break\n",
        "  else: print(num1**2)"
      ],
      "metadata": {
        "colab": {
          "base_uri": "https://localhost:8080/"
        },
        "id": "oOPJuNtlbjfz",
        "outputId": "50cb049d-12c4-4242-f7d8-d8f7280e9411"
      },
      "execution_count": 28,
      "outputs": [
        {
          "name": "stdout",
          "output_type": "stream",
          "text": [
            "informe um numero0\n"
          ]
        }
      ]
    },
    {
      "cell_type": "markdown",
      "source": [
        "o for é mais adequado quando sabemos quantas vezes queremos repetir uma ação"
      ],
      "metadata": {
        "id": "vYKgVT9cdEk8"
      }
    },
    {
      "cell_type": "code",
      "source": [
        "#contagem regressiva\n",
        "for numero in range(10, 0, -1):\n",
        "  print(numero)"
      ],
      "metadata": {
        "colab": {
          "base_uri": "https://localhost:8080/"
        },
        "id": "4NRM1DfldLt8",
        "outputId": "bd01beda-b6b8-48da-8fb3-49b7d13574d7"
      },
      "execution_count": 30,
      "outputs": [
        {
          "output_type": "stream",
          "name": "stdout",
          "text": [
            "10\n",
            "9\n",
            "8\n",
            "7\n",
            "6\n",
            "5\n",
            "4\n",
            "3\n",
            "2\n",
            "1\n"
          ]
        }
      ]
    },
    {
      "cell_type": "markdown",
      "source": [
        "modifique o codigo para contar de 1 a 20\n"
      ],
      "metadata": {
        "id": "MbQjG2hRd9n2"
      }
    },
    {
      "cell_type": "code",
      "source": [
        "for numero in range(1, 21):\n",
        "  print(numero)"
      ],
      "metadata": {
        "id": "Mrhva3dweC5u"
      },
      "execution_count": null,
      "outputs": []
    },
    {
      "cell_type": "code",
      "source": [
        "soma = 0\n",
        "\n",
        "for numero in range(1, 101):\n",
        "  soma += numero\n",
        "\n",
        "print(soma)"
      ],
      "metadata": {
        "colab": {
          "base_uri": "https://localhost:8080/"
        },
        "id": "-k6NOxY6esju",
        "outputId": "182ae3b2-ee51-4ec7-ca94-b4b642a76630"
      },
      "execution_count": 41,
      "outputs": [
        {
          "output_type": "stream",
          "name": "stdout",
          "text": [
            "5050\n"
          ]
        }
      ]
    },
    {
      "cell_type": "code",
      "source": [
        "for numero in range(1, 11):\n",
        "  if numero % 2 != 0:\n",
        "    print(numero)\n"
      ],
      "metadata": {
        "colab": {
          "base_uri": "https://localhost:8080/"
        },
        "id": "WL7zdXAFe9FH",
        "outputId": "2e6a22a1-bcfb-475a-93ef-4fa968093e98"
      },
      "execution_count": 46,
      "outputs": [
        {
          "output_type": "stream",
          "name": "stdout",
          "text": [
            "1\n",
            "3\n",
            "5\n",
            "7\n",
            "9\n"
          ]
        }
      ]
    },
    {
      "cell_type": "code",
      "source": [
        "for(i=0, i < 10, i++){\n",
        "\n",
        "}"
      ],
      "metadata": {
        "id": "IzqftvwKiBk3"
      },
      "execution_count": null,
      "outputs": []
    },
    {
      "cell_type": "markdown",
      "source": [
        "white : usa quando nao sabemos o que exatemente quantas repetições serão feitas\n",
        "precisa de um contador normal\n",
        "\n",
        "for: usa quando sabemos quantas vezes repetir\n",
        "usa range () para criar contagens"
      ],
      "metadata": {
        "id": "kt0aFkMnhwa4"
      }
    },
    {
      "cell_type": "code",
      "source": [
        "#bonus - trabalhando com numeros randomicos\n",
        "import random\n",
        "\n",
        "numero = random.randint(0, 100)\n",
        "print(numero)"
      ],
      "metadata": {
        "id": "Tp4EafKwiWxI"
      },
      "execution_count": null,
      "outputs": []
    },
    {
      "cell_type": "markdown",
      "source": [
        "desafio\n",
        "\n",
        "tabuada crie um codigo que solicita um numero e retorna sua tabuada de multiplicação\n",
        "\n",
        "faça um programa que peça um numero ao usuario e exiba se ele é primo ou nao usando um laço\n",
        "\n",
        "faça um jogo de advinha número\n",
        ". o programa gera um numero aleatorio entre 0 a 10\n",
        ". solicita ao usuario tentar acertar o numero gerado\n",
        ". caso o jogador erre, é convidado a tentar mais uma vez\n",
        "."
      ],
      "metadata": {
        "id": "ho8SURetivJI"
      }
    }
  ]
}