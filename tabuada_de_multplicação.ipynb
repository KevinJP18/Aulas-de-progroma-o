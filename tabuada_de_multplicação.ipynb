{
  "nbformat": 4,
  "nbformat_minor": 0,
  "metadata": {
    "colab": {
      "provenance": [],
      "authorship_tag": "ABX9TyNr5gs3fnL+5cvZGrFH1hm9",
      "include_colab_link": true
    },
    "kernelspec": {
      "name": "python3",
      "display_name": "Python 3"
    },
    "language_info": {
      "name": "python"
    }
  },
  "cells": [
    {
      "cell_type": "markdown",
      "metadata": {
        "id": "view-in-github",
        "colab_type": "text"
      },
      "source": [
        "<a href=\"https://colab.research.google.com/github/KevinJP18/Aulas-de-progroma-o/blob/main/tabuada_de_multplica%C3%A7%C3%A3o.ipynb\" target=\"_parent\"><img src=\"https://colab.research.google.com/assets/colab-badge.svg\" alt=\"Open In Colab\"/></a>"
      ]
    },
    {
      "cell_type": "code",
      "source": [],
      "metadata": {
        "id": "1Bxv3bTORSZA"
      },
      "execution_count": null,
      "outputs": []
    },
    {
      "cell_type": "code",
      "execution_count": 11,
      "metadata": {
        "colab": {
          "base_uri": "https://localhost:8080/"
        },
        "id": "hQUBiLS_DqCi",
        "outputId": "fef366b3-d6a9-493f-d57c-efb4601befe8"
      },
      "outputs": [
        {
          "name": "stdout",
          "output_type": "stream",
          "text": [
            "insira um numero 10\n",
            "[0, 10, 20, 30, 40, 50, 60, 70, 80, 90, 100]6\n"
          ]
        }
      ],
      "source": [
        "#tabuada de multiplicacao\n",
        "multiplicação =  []\n",
        "\n",
        "cont = 0\n",
        "num = int(input('insira um numero '))\n",
        "while (cont <= 10):\n",
        "    multiplicação.append(num * cont)\n",
        "    cont += 1\n",
        "print =  int(input(multiplicação))\n",
        "\n",
        "\n",
        "\n",
        "\n",
        "\n",
        "\n",
        "\n",
        "\n",
        "\n",
        "\n"
      ]
    }
  ]
}