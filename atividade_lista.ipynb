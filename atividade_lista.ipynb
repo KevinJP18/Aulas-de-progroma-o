{
  "nbformat": 4,
  "nbformat_minor": 0,
  "metadata": {
    "colab": {
      "provenance": [],
      "authorship_tag": "ABX9TyPORUq1n8zWrh8NuRE/bdy9",
      "include_colab_link": true
    },
    "kernelspec": {
      "name": "python3",
      "display_name": "Python 3"
    },
    "language_info": {
      "name": "python"
    }
  },
  "cells": [
    {
      "cell_type": "markdown",
      "metadata": {
        "id": "view-in-github",
        "colab_type": "text"
      },
      "source": [
        "<a href=\"https://colab.research.google.com/github/KevinJP18/Aulas-de-progroma-o/blob/main/atividade_lista.ipynb\" target=\"_parent\"><img src=\"https://colab.research.google.com/assets/colab-badge.svg\" alt=\"Open In Colab\"/></a>"
      ]
    },
    {
      "cell_type": "code",
      "source": [
        "frutas = ['maçã', 'banana', 'laranja', 'abacate']\n",
        "print(frutas)"
      ],
      "metadata": {
        "id": "1vEfNnUnX7wC"
      },
      "execution_count": null,
      "outputs": []
    },
    {
      "cell_type": "code",
      "source": [
        "#identificar o tamanho de uma lista len(lista)\n",
        "print(len(frutas))"
      ],
      "metadata": {
        "id": "0KlP_3PtYHvo",
        "colab": {
          "base_uri": "https://localhost:8080/"
        },
        "outputId": "10731fef-a98b-4fae-8d8a-90d88aa9c384"
      },
      "execution_count": 4,
      "outputs": [
        {
          "output_type": "stream",
          "name": "stdout",
          "text": [
            "4\n"
          ]
        }
      ]
    },
    {
      "cell_type": "code",
      "source": [
        "#count() - quantas vezes um valor aparece\n",
        "frutas = ['maçã', 'banana','laranja', 'laranja', 'laranja']\n",
        "print(frutas.count('laranja'))"
      ],
      "metadata": {
        "id": "e2UWNrsZYKp4"
      },
      "execution_count": null,
      "outputs": []
    },
    {
      "cell_type": "code",
      "source": [
        "#imprimir elementos da lista pelo índice\n",
        "\n",
        "carros = ['gol', 'uno', 'fiesta', 'lada','marajó', 'voyage', 'santana']\n",
        "\n",
        "print(carros[0]) #gol\n",
        "print(carros[1]) #uno\n",
        "print(carros[2]) #fiesta\n",
        "print(carros[-1]) #sanatna\n",
        "print(carros[2:5]) #slice do índice 2 ao índece 4\n",
        "print(carros[:4]) #slice até o índice 3\n",
        "print(carros[2:]) #slice a partir do índice 2\n",
        "#print(carros[7]) OUT OF INDEX"
      ],
      "metadata": {
        "id": "yK4p2fsDYTsQ"
      },
      "execution_count": null,
      "outputs": []
    },
    {
      "cell_type": "code",
      "source": [
        "#adicionar elementos em uma lista lista.append('elementos')\n",
        "frutas.append('goiaba')\n",
        "print(frutas)"
      ],
      "metadata": {
        "id": "bjjBfyr4YWcX"
      },
      "execution_count": null,
      "outputs": []
    },
    {
      "cell_type": "code",
      "execution_count": null,
      "metadata": {
        "colab": {
          "base_uri": "https://localhost:8080/"
        },
        "id": "A_7DW-B0X221",
        "outputId": "60573f03-bcc8-4cde-83bc-cf1867bb05fb"
      },
      "outputs": [
        {
          "output_type": "stream",
          "name": "stdout",
          "text": [
            "digite uma fruta: uva\n",
            "['maçã', 'banana', 'laranja', 'abacate', 'uva']\n"
          ]
        }
      ],
      "source": [
        "#faça um codigo que pede que o usuario digite frutas e\n",
        "#insere uma fruta na lista.\n",
        "fruta =input('digite uma fruta: ')\n",
        "frutas.append(fruta)\n",
        "print(frutas)"
      ]
    },
    {
      "cell_type": "code",
      "source": [
        "#exercicio 2\n",
        "#faça um laço o qual solicita ao usuario que digite\n",
        "#o nome de um carro para insirio-lo na lista\n",
        "#ele para quando o usuario digitar o numero 0\n",
        "#Ao final, imprime a lista e o seu tamanho\n",
        "carros= []\n",
        "carros = input('digite um carro: ')\n",
        "while carros != '0':\n",
        "  carros.append(carro)\n",
        "  carro=input('digite um carro: ')\n",
        "  print(carros)\n",
        "  print(len(carros))\n",
        "\n"
      ],
      "metadata": {
        "id": "nBvO03nWYEuP"
      },
      "execution_count": null,
      "outputs": []
    },
    {
      "cell_type": "code",
      "source": [
        "carros=[]\n",
        "while True:\n",
        "   carro=input('digite um carro: ')\n",
        "   if carro == '0':\n",
        "    break\n",
        "    carros.append(carros)\n",
        "print(carros)\n",
        "print(len(carros))"
      ],
      "metadata": {
        "id": "6n3LvpG_bDea"
      },
      "execution_count": null,
      "outputs": []
    },
    {
      "cell_type": "code",
      "source": [
        "#exercicio 3\n",
        "lista=[2, 4, 5, 2, 3, 7, 8, 2, 5,]\n",
        "numero = int(input('digite um numero: '))\n",
        "if numero in lista:\n",
        "  print(lista.count(numero))\n",
        "else:\n",
        "  print('numero nao existe na lista')\n"
      ],
      "metadata": {
        "collapsed": true,
        "id": "FG-HKRF8bmWY"
      },
      "execution_count": null,
      "outputs": []
    },
    {
      "cell_type": "markdown",
      "source": [
        "removendo valores"
      ],
      "metadata": {
        "id": "GiUw4_TGd0Rq"
      }
    },
    {
      "cell_type": "code",
      "source": [
        "carros = ['gol', 'uno', 'fiesta', 'lada','marajó', 'voyage', 'santana']"
      ],
      "metadata": {
        "id": "fmDNaPL2eSTt"
      },
      "execution_count": null,
      "outputs": []
    },
    {
      "cell_type": "code",
      "source": [
        "#pop()\n",
        "carros = ['gol', 'uno', 'fiesta', 'lada','marajó', 'voyage', 'santana']\n",
        "carros.pop(3) #remove o ultimo elemento da lista ou o numero entre ()\n",
        "print(carros)"
      ],
      "metadata": {
        "colab": {
          "base_uri": "https://localhost:8080/"
        },
        "id": "Upnis514djUO",
        "outputId": "8ffd9af9-bd1e-4b58-96e8-dfc3ac114ed3"
      },
      "execution_count": 27,
      "outputs": [
        {
          "output_type": "stream",
          "name": "stdout",
          "text": [
            "['gol', 'uno', 'fiesta', 'marajó', 'voyage', 'santana']\n"
          ]
        }
      ]
    },
    {
      "cell_type": "code",
      "source": [
        "#pop pelo indice\n",
        "#lista.index\n",
        "\n",
        "lista = [\"maçã\", \"banana\", \"laranja\"]\n",
        "indice = lista.index(\"banana\") #encontra o indice \"banana\"\n",
        "lista.pop(indice) #remove o elemeneto indice\n",
        "print(lista) #saida:['maçã', 'laranja' ]"
      ],
      "metadata": {
        "colab": {
          "base_uri": "https://localhost:8080/"
        },
        "id": "cCAeXPIBeYs0",
        "outputId": "a6ae6fea-a067-4a2a-8c15-94c1025faba7"
      },
      "execution_count": 21,
      "outputs": [
        {
          "output_type": "stream",
          "name": "stdout",
          "text": [
            "['maçã', 'laranja']\n"
          ]
        }
      ]
    },
    {
      "cell_type": "code",
      "source": [
        "#del list[index]\n",
        "nums = [4, 5, 3, 2, 6, 8]\n",
        "del nums[2] #remove o numero na posição\n",
        "print(nums)"
      ],
      "metadata": {
        "colab": {
          "base_uri": "https://localhost:8080/"
        },
        "id": "2liA21MpfnLR",
        "outputId": "de5889c0-1743-4ace-8cb6-d9378eef1d53"
      },
      "execution_count": 30,
      "outputs": [
        {
          "output_type": "stream",
          "name": "stdout",
          "text": [
            "[4, 5, 2, 6, 8]\n"
          ]
        }
      ]
    },
    {
      "cell_type": "code",
      "source": [
        "#remove() - remove a primeira ocorrencia do valor especificado\n",
        "lista = ['maçã', 'banana', 'laranja', 'maçã']\n",
        "lista.remove('maçã')\n",
        "print(lista)"
      ],
      "metadata": {
        "colab": {
          "base_uri": "https://localhost:8080/"
        },
        "id": "LSGit9D-gAOf",
        "outputId": "b32f3577-a9b8-4d2f-f698-3df2ad4e9c2f"
      },
      "execution_count": 31,
      "outputs": [
        {
          "output_type": "stream",
          "name": "stdout",
          "text": [
            "['banana', 'laranja', 'maçã']\n"
          ]
        }
      ]
    },
    {
      "cell_type": "code",
      "source": [
        "#list comprehension\n",
        "lista = ['maçã', 'banana', 'laranja', 'maçã','maçã']\n",
        "\n",
        "fruta_remover = 'maçã'\n",
        "\n",
        "lista=[x for x in lista if x != fruta_remover]\n",
        "print(lista)"
      ],
      "metadata": {
        "colab": {
          "base_uri": "https://localhost:8080/"
        },
        "id": "e2sLQuLGgh4a",
        "outputId": "4928af85-0301-4f9c-b0f4-63bac9cf3a6c"
      },
      "execution_count": 32,
      "outputs": [
        {
          "output_type": "stream",
          "name": "stdout",
          "text": [
            "['banana', 'laranja']\n"
          ]
        }
      ]
    },
    {
      "cell_type": "code",
      "source": [
        "#na lista de notas a seguir, mantenha apenas as que\n",
        "#sao maiores ou iguais a seis.use lista comprehension\n",
        "notas = [6, 8, 5, 4, 7, 7, 9, 3, 6]\n",
        "\n",
        "notas=[x for x in notas if x >=6]\n",
        "print(notas)"
      ],
      "metadata": {
        "colab": {
          "base_uri": "https://localhost:8080/"
        },
        "id": "VKBz3_mThFRE",
        "outputId": "778ac975-5fae-4323-c394-fc3cbe4ce2f3"
      },
      "execution_count": 36,
      "outputs": [
        {
          "output_type": "stream",
          "name": "stdout",
          "text": [
            "[6, 8, 7, 7, 9, 6]\n"
          ]
        }
      ]
    },
    {
      "cell_type": "markdown",
      "source": [
        "### exercicio\n",
        "crie um program que simula uma lista de tarefas\n",
        "o programa deve exibir um menu com 4 opções:\n",
        "1. Adicionar tarefa\n",
        "2. remover tarefa\n",
        "3. listar tarefas\n",
        "4. sair\n",
        "\n",
        "o programa deve continuar exibindo o menu até o\n",
        "usuario escolher a opção de sair."
      ],
      "metadata": {
        "id": "li_N2OTDi38i"
      }
    },
    {
      "cell_type": "code",
      "source": [
        "tarefas = []\n",
        "print('Adicionar tarefa ')\n",
        "print('remover tarefa ')\n",
        "print('lista tarefas')\n",
        "print('sair')\n",
        "\n",
        "opcao= int(input('digite uma opção: '))\n",
        "\n",
        "tarefas = []\n",
        "while True\n",
        " if opcao == 1:\n",
        "  tarefa = input(\"digite uma tarefa: \")\n",
        "  tarefas.append(tarefa)\n",
        "  print(\"tarefa adicionado com sucesso \")\n",
        " elif opcao == 2:\n",
        "  if input(\"digite uma tarefa para remover \")\n",
        "  tarefas.remove(tarefa)\n",
        "  print(\"tarefa removida com sucesso\")\n",
        ""
      ],
      "metadata": {
        "id": "NXc046rvixfK"
      },
      "execution_count": null,
      "outputs": []
    }
  ]
}