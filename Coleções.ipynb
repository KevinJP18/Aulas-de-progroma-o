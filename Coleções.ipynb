{
  "nbformat": 4,
  "nbformat_minor": 0,
  "metadata": {
    "colab": {
      "provenance": [],
      "authorship_tag": "ABX9TyM4s0AhB0vRu16NAiapgbKE",
      "include_colab_link": true
    },
    "kernelspec": {
      "name": "python3",
      "display_name": "Python 3"
    },
    "language_info": {
      "name": "python"
    }
  },
  "cells": [
    {
      "cell_type": "markdown",
      "metadata": {
        "id": "view-in-github",
        "colab_type": "text"
      },
      "source": [
        "<a href=\"https://colab.research.google.com/github/KevinJP18/Aulas-de-progroma-o/blob/main/Cole%C3%A7%C3%B5es.ipynb\" target=\"_parent\"><img src=\"https://colab.research.google.com/assets/colab-badge.svg\" alt=\"Open In Colab\"/></a>"
      ]
    },
    {
      "cell_type": "code",
      "execution_count": null,
      "metadata": {
        "id": "t0mqNfzUuqPb"
      },
      "outputs": [],
      "source": [
        "lista = [ação/valor for in lista2 condição]"
      ]
    },
    {
      "cell_type": "code",
      "source": [
        "notas = [8, 5, 3, 2, 10, 8]\n",
        "menores = [nota for nota in notas if nota < 5]\n",
        "print(menores)"
      ],
      "metadata": {
        "id": "Kus9K1KUusgL"
      },
      "execution_count": null,
      "outputs": []
    },
    {
      "cell_type": "code",
      "source": [
        "quadrados = [x**2 for x in range(10)]\n",
        "print(quadrados)"
      ],
      "metadata": {
        "id": "MBIQ2zgiuu3R"
      },
      "execution_count": null,
      "outputs": []
    },
    {
      "cell_type": "code",
      "source": [
        "numeros = [1, 2, 3, 4, 5, 6]\n",
        "pares = [n for n in numeros if n % 2 == 0]\n",
        "print(pares)"
      ],
      "metadata": {
        "id": "E7aaTCkKuwjh"
      },
      "execution_count": null,
      "outputs": []
    },
    {
      "cell_type": "code",
      "source": [
        "#Strings\n",
        "nome = 'Kevin'\n",
        "for letra in nome:\n",
        "  print(letra)\n",
        "\n",
        "print (len(nome)) # imprime o tamanho da String\n",
        "print(nome.upper())#todos em maiusculos\n",
        "print(nome.lower())#todos em minusculos"
      ],
      "metadata": {
        "id": "98qTlt_1uyMh"
      },
      "execution_count": null,
      "outputs": []
    },
    {
      "cell_type": "code",
      "source": [
        "nomes = ['joão', ' Ana','Epaminonadas', 'Godofredo', 'Lair', 'Setembrino']\n",
        "maisDe5 = [nome for nome in nomes if len(nome) > 4]\n",
        "print(maisDe5)"
      ],
      "metadata": {
        "id": "q302DeRCu05K"
      },
      "execution_count": null,
      "outputs": []
    },
    {
      "cell_type": "code",
      "source": [
        "#caixa alta os nomes com 4 letras ou menos\n",
        "caixaAlta = [nome.upper() for nome in nomes if len(nome) < 5]\n",
        "print(caixaAlta)"
      ],
      "metadata": {
        "id": "VLMCOMlau32q"
      },
      "execution_count": null,
      "outputs": []
    },
    {
      "cell_type": "code",
      "source": [
        "dobro_impares = [n*2 for n in numeros if n % 2 != 0]\n",
        "print(dobro_impares)"
      ],
      "metadata": {
        "id": "50SupNFJu6CC"
      },
      "execution_count": null,
      "outputs": []
    },
    {
      "cell_type": "code",
      "source": [
        "# Atribuir 2 pontos as notas menores que 5\n",
        "notas =[9.0,  4.5, 2.3, 6.0, 8.2, 5.3]\n",
        "pontos = [nota + 2  for nota in notas if nota < 5]\n",
        "print(pontos)"
      ],
      "metadata": {
        "id": "ain78YOHu6oy"
      },
      "execution_count": null,
      "outputs": []
    },
    {
      "cell_type": "code",
      "source": [
        "# Função que soma dois valores\n",
        "soma = lambda x, y: x + y\n",
        "print(soma(3, 5))"
      ],
      "metadata": {
        "id": "5JCtaYeou8Sy"
      },
      "execution_count": null,
      "outputs": []
    },
    {
      "cell_type": "code",
      "source": [
        "metade =  lambda a : a/2\n",
        "print(metade(9))"
      ],
      "metadata": {
        "id": "M7kBQaSbu-Uy"
      },
      "execution_count": null,
      "outputs": []
    },
    {
      "cell_type": "code",
      "source": [
        "\n",
        "#list(map(funçao lambda, lista))"
      ],
      "metadata": {
        "id": "JSuIiY2Uu__6"
      },
      "execution_count": null,
      "outputs": []
    },
    {
      "cell_type": "code",
      "source": [
        "#com map\n",
        "numeros = [2,3,4,5,6,7,]\n",
        "quadrados = list(map(lambda x: x**2, numeros))\n",
        "print(quadrados)"
      ],
      "metadata": {
        "id": "X3uMKNJhvBrL"
      },
      "execution_count": null,
      "outputs": []
    },
    {
      "cell_type": "code",
      "source": [
        "#dobro\n",
        "dobro = list(map(lambda x: x*2, numeros))\n",
        "print(dobro)"
      ],
      "metadata": {
        "id": "QUi7UcbUvEka"
      },
      "execution_count": null,
      "outputs": []
    },
    {
      "cell_type": "code",
      "source": [
        "palavras = [ 'e', 'hoje', 'my', 'ConsaGrated']\n",
        "maiusculas = list(map(lambda x: x.upper(), palavras))\n",
        "print(maiusculas)"
      ],
      "metadata": {
        "id": "5OxpgFCWvGNZ"
      },
      "execution_count": null,
      "outputs": []
    },
    {
      "cell_type": "code",
      "source": [
        "#print (len(nome)) # imprime o tamanho da String\n",
        "#print(nome.upper())#todos em maiusculos\n",
        "#print(nome.lower())#todos em minusculos"
      ],
      "metadata": {
        "id": "N_78hPSnvIdy"
      },
      "execution_count": null,
      "outputs": []
    },
    {
      "cell_type": "code",
      "source": [
        "numeros = [1, 2, 3, 4]\n",
        "pares = list(filter(lambda x: x % 2 == 0, numeros))\n",
        "print(pares)"
      ],
      "metadata": {
        "id": "5LL00Jf-vI_Z"
      },
      "execution_count": null,
      "outputs": []
    },
    {
      "cell_type": "code",
      "source": [
        "nomes = ['Cristiano', 'Alien', 'Ary', 'Bete', 'já']\n",
        "mais4letras = list(filter(lambda x: len(x)> 4, nomes))\n",
        "print(mais4letras)"
      ],
      "metadata": {
        "id": "C0GXrq14vMIS"
      },
      "execution_count": null,
      "outputs": []
    },
    {
      "cell_type": "code",
      "source": [
        "numeros = [10, 20, 8, 2, 25, 11, 9]\n",
        "maiores10 = list(filter(lambda x: x > 10, numeros))\n",
        "print(maiores10)"
      ],
      "metadata": {
        "id": "R0KPUjcKvM1S"
      },
      "execution_count": null,
      "outputs": []
    },
    {
      "cell_type": "code",
      "source": [
        "#Pares\n",
        "nums = [ 3, 7, 2, 8, 1, 4, 10]\n",
        "pares = list(filter(lambda x: x % 2 == 0, nums))\n",
        "print(pares)"
      ],
      "metadata": {
        "id": "-5ARH41pvOxa"
      },
      "execution_count": null,
      "outputs": []
    },
    {
      "cell_type": "code",
      "source": [
        "#pares dobrados e impares sem mudança\n",
        "nums = [ 3, 7, 2, 8, 1, 4, 10]\n",
        "paresImpares = [n*2 if n % 2 == 0 else n for n in nums]\n",
        "print(paresImpares)"
      ],
      "metadata": {
        "colab": {
          "base_uri": "https://localhost:8080/"
        },
        "id": "vpau4L2bvQWi",
        "outputId": "613f81e5-e53d-4fbf-fc94-b220a6c6ba8a"
      },
      "execution_count": 3,
      "outputs": [
        {
          "output_type": "stream",
          "name": "stdout",
          "text": [
            "[3, 7, 4, 16, 1, 8, 20]\n"
          ]
        }
      ]
    }
  ]
}