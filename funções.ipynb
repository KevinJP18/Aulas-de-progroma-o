{
  "nbformat": 4,
  "nbformat_minor": 0,
  "metadata": {
    "colab": {
      "provenance": [],
      "authorship_tag": "ABX9TyONS+b7vQWg+pnT86DRs94t",
      "include_colab_link": true
    },
    "kernelspec": {
      "name": "python3",
      "display_name": "Python 3"
    },
    "language_info": {
      "name": "python"
    }
  },
  "cells": [
    {
      "cell_type": "markdown",
      "metadata": {
        "id": "view-in-github",
        "colab_type": "text"
      },
      "source": [
        "<a href=\"https://colab.research.google.com/github/KevinJP18/Aulas-de-progroma-o/blob/main/fun%C3%A7%C3%B5es.ipynb\" target=\"_parent\"><img src=\"https://colab.research.google.com/assets/colab-badge.svg\" alt=\"Open In Colab\"/></a>"
      ]
    },
    {
      "cell_type": "markdown",
      "source": [
        "Funções em Python\n"
      ],
      "metadata": {
        "id": "ISB-4_arlYdA"
      }
    },
    {
      "cell_type": "code",
      "execution_count": 3,
      "metadata": {
        "colab": {
          "base_uri": "https://localhost:8080/"
        },
        "id": "g_KpXBaRkHZF",
        "outputId": "8a607402-1c62-48e6-c548-e18bfa32596e"
      },
      "outputs": [
        {
          "output_type": "stream",
          "name": "stdout",
          "text": [
            "13\n"
          ]
        }
      ],
      "source": [
        " def  saudacao():\n",
        "  print('Olá, estou dentro da função')\n",
        "\n",
        "def somar():\n",
        "  print(5 + 8)\n",
        "#saudacao()\n",
        "somar()"
      ]
    },
    {
      "cell_type": "code",
      "source": [
        "def somar(a, b ):\n",
        "  return a + b\n",
        "\n",
        "a = somar(5, 6)\n",
        "print(a)"
      ],
      "metadata": {
        "id": "Y6Emyjb0n31p"
      },
      "execution_count": null,
      "outputs": []
    },
    {
      "cell_type": "code",
      "source": [
        "def quadrado(a):\n",
        "  print =  int(input(\"digite um numero: \"))\n",
        "  return print**2\n",
        "\n",
        "quadrado(a)"
      ],
      "metadata": {
        "id": "FFpjdViAoY4D"
      },
      "execution_count": null,
      "outputs": []
    },
    {
      "cell_type": "code",
      "source": [
        "def exibir_horario_aulas(disciplina, horario=9):\n",
        "  print(f'{disciplina} - {horario} horas.')\n",
        "\n",
        "exibir_horario_aulas('Programação')\n",
        "exibir_horario_aulas('Modelagem de Software',15)"
      ],
      "metadata": {
        "id": "oK5xWAGtp-ez"
      },
      "execution_count": null,
      "outputs": []
    },
    {
      "cell_type": "code",
      "source": [
        "def exibir_produto(nome, preco):\n",
        "  print(f'{nome} : R${preco}')\n",
        "\n",
        "exibir_produto('doce de leite', 5.50)\n",
        "exibir_produto(65, 'Bermuda')\n",
        "\n",
        "exibir_produto(preco=100, nome='Camiseta')"
      ],
      "metadata": {
        "id": "JyTcqdNFrM7z"
      },
      "execution_count": null,
      "outputs": []
    },
    {
      "cell_type": "code",
      "source": [
        "def exibir_jogo(*,nome_jogo, ano_lancamento):\n",
        "  print(f'{nome_jogo}, lançado em {ano_lancamento}')\n",
        "\n",
        "def exibir_produto(nome,*,preco):\n",
        "  print(f'{nome} : R${preco}')\n",
        "\n",
        "exibir_jogo(nome_jogo='Mario',ano_lancamento=1985)\n",
        "exibir_produto('Alicante', preco=20)"
      ],
      "metadata": {
        "id": "dt0Er5M3si7C"
      },
      "execution_count": null,
      "outputs": []
    },
    {
      "cell_type": "markdown",
      "source": [
        "tarefa\n"
      ],
      "metadata": {
        "id": "wZnGfjs3uLG6"
      }
    },
    {
      "cell_type": "code",
      "source": [
        "def gerar_personagem_game(nome, altura,*, forca, arma):\n",
        "  print(f'seu nome é {nome},sua altura é {altura},sua força é {forca},sua arma é {arma}')\n",
        "\n",
        "gerar_personagem_game(\"Goku\", 1.75,forca=\"+ de 8K\",arma=\"Bastão do poder\")"
      ],
      "metadata": {
        "colab": {
          "base_uri": "https://localhost:8080/"
        },
        "id": "ASPAmYAPuM36",
        "outputId": "942d8a58-9c58-4d3b-e7e4-4adac6eb6185"
      },
      "execution_count": 19,
      "outputs": [
        {
          "output_type": "stream",
          "name": "stdout",
          "text": [
            "seu nome é Goku,sua altura é 1.75,sua força é + de 8K,sua arma é Bastão do poder\n"
          ]
        }
      ]
    },
    {
      "cell_type": "markdown",
      "source": [
        "ARGS"
      ],
      "metadata": {
        "id": "ave6UIbWw3ny"
      }
    },
    {
      "cell_type": "code",
      "source": [
        "def somanotas(*args):\n",
        "  return sum(args)\n",
        "\n",
        "print(somanotas(7, 8, 3, 10, 5.5, 2, 8.5))"
      ],
      "metadata": {
        "colab": {
          "base_uri": "https://localhost:8080/"
        },
        "id": "JseDHROEw4xS",
        "outputId": "ba237a6d-6c0d-49e8-d122-2ac88a71cfbb"
      },
      "execution_count": 20,
      "outputs": [
        {
          "output_type": "stream",
          "name": "stdout",
          "text": [
            "44.0\n"
          ]
        }
      ]
    },
    {
      "cell_type": "code",
      "source": [
        "def somar_nums(*valores, a):\n",
        "  print(valores)\n",
        "  for valor in valores:\n",
        "    a+=valor\n",
        "  print(a)\n",
        "\n",
        "somar_nums(5, 5, a = 10)"
      ],
      "metadata": {
        "colab": {
          "base_uri": "https://localhost:8080/"
        },
        "id": "xa_Ie7W4yDm2",
        "outputId": "59f3e219-074f-4219-f160-51941f342176"
      },
      "execution_count": 22,
      "outputs": [
        {
          "output_type": "stream",
          "name": "stdout",
          "text": [
            "(5, 5)\n",
            "20\n"
          ]
        }
      ]
    },
    {
      "cell_type": "markdown",
      "source": [
        "Keargs"
      ],
      "metadata": {
        "id": "R53xPizHzEHO"
      }
    },
    {
      "cell_type": "code",
      "source": [
        "def concatenar(**palavras):\n",
        "  frase = ' '\n",
        "  for palavra in palavras.values():\n",
        "    frase += palavra\n",
        "  print(frase)\n",
        "\n",
        "concatenar(a='eu ',  b='é ',  c='Hequer ')"
      ],
      "metadata": {
        "id": "IgAbNR2tzGOY"
      },
      "execution_count": null,
      "outputs": []
    },
    {
      "cell_type": "code",
      "source": [
        "#exemplo\n",
        "\n",
        "def calcula(nome, *args, **kwargs):\n",
        "  print(nome)\n",
        "  print(args)\n",
        "  print(kwargs)\n",
        "  for arg in args:\n",
        "    print(arg)\n",
        "  for kwarg in kwargs.values():\n",
        "    print(kwarg)\n",
        "\n",
        "calcula('José',5,6,72,1,a=4,b=6,c=8)"
      ],
      "metadata": {
        "colab": {
          "base_uri": "https://localhost:8080/"
        },
        "id": "uRepYZWf0RmA",
        "outputId": "65d81644-9483-44ba-e9aa-8b88597eb6e5"
      },
      "execution_count": 33,
      "outputs": [
        {
          "output_type": "stream",
          "name": "stdout",
          "text": [
            "José\n",
            "(5, 6, 72, 1)\n",
            "{'a': 4, 'b': 6, 'c': 8}\n",
            "5\n",
            "6\n",
            "72\n",
            "1\n",
            "4\n",
            "6\n",
            "8\n"
          ]
        }
      ]
    },
    {
      "cell_type": "markdown",
      "source": [
        "atividade\n"
      ],
      "metadata": {
        "id": "oCb6L3581xyb"
      }
    },
    {
      "cell_type": "code",
      "source": [
        "#q1\n",
        "def somar_valores(*args):\n",
        "  return sum(args)\n",
        "\n",
        "print(somar_valores(5,6))"
      ],
      "metadata": {
        "colab": {
          "base_uri": "https://localhost:8080/"
        },
        "id": "5oFw5LGn1ivq",
        "outputId": "a44d7a70-00ce-4767-af7b-5bc1998f2870"
      },
      "execution_count": 30,
      "outputs": [
        {
          "output_type": "stream",
          "name": "stdout",
          "text": [
            "11\n"
          ]
        }
      ]
    },
    {
      "cell_type": "code",
      "source": [
        "#q2\n",
        "def exibir_perfil(nome, *args, **kwargs):\n",
        "  print(nome)\n",
        "  print(args)\n",
        "  print(kwargs)\n",
        "  for arg in args:\n",
        "    print(arg)\n",
        "  for kwarg in kwargs.values():\n",
        "    print(kwarg)\n",
        "\n",
        "exibir_perfil('Kevin ',args='meus hobbies são dormir e joga ', a='João pessoa', b=18)"
      ],
      "metadata": {
        "id": "hSH3vfTr2ge1"
      },
      "execution_count": null,
      "outputs": []
    },
    {
      "cell_type": "code",
      "source": [
        "def multiplica_todos(*args):\n",
        "    resultado = 1\n",
        "    for numero in args:\n",
        "        resultado *= numero\n",
        "    return resultado\n",
        "\n",
        "\n",
        "print(multiplica_todos(5, 3))\n",
        "print(multiplica_todos(2, 4, 6))"
      ],
      "metadata": {
        "colab": {
          "base_uri": "https://localhost:8080/"
        },
        "id": "wCV3ducE45GI",
        "outputId": "8e6f7bdb-dffe-4ced-aeb6-23f090cc8ff3"
      },
      "execution_count": 44,
      "outputs": [
        {
          "output_type": "stream",
          "name": "stdout",
          "text": [
            "15\n",
            "48\n"
          ]
        }
      ]
    },
    {
      "cell_type": "code",
      "source": [
        "from datetime import date, datetime\n",
        "data_atual = date.today()\n",
        "datahora_atual = datetime.now()\n",
        "print(data_atual)\n",
        "print(datahora_atual)"
      ],
      "metadata": {
        "id": "nAMvwVuZ7mFI"
      },
      "execution_count": null,
      "outputs": []
    },
    {
      "cell_type": "code",
      "source": [
        "data_formatada = data_atual.strftime(\"%d/%m/%Y\")\n",
        "data_completa = datahora_atual.strftime(\"%d/%m/%Y %H:%M:%S\")\n",
        "print(data_formatada)\n",
        "print(data_completa)"
      ],
      "metadata": {
        "colab": {
          "base_uri": "https://localhost:8080/"
        },
        "id": "SQrbc0778WKY",
        "outputId": "3c62fc33-18bb-4cfe-d465-09fb9c34c55e"
      },
      "execution_count": 45,
      "outputs": [
        {
          "output_type": "stream",
          "name": "stdout",
          "text": [
            "13/05/2025\n",
            "13/05/2025 13:57:17\n"
          ]
        }
      ]
    }
  ]
}